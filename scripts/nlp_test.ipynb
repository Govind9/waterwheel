{
 "cells": [
  {
   "cell_type": "code",
   "execution_count": 1,
   "metadata": {
    "colab": {},
    "colab_type": "code",
    "id": "DyBEUDseq1EA"
   },
   "outputs": [],
   "source": [
    "from spacy import displacy\n",
    "from pathlib import Path\n",
    "from tqdm.notebook import tqdm\n",
    "import pandas as pd\n",
    "import re\n",
    "import json\n",
    "from spacy.tokens import Doc, Span, Token\n",
    "from spacy.lang.en import English\n",
    "from spacy.matcher import PhraseMatcher\n",
    "import spacy"
   ]
  },
  {
   "cell_type": "code",
   "execution_count": 2,
   "metadata": {
    "colab": {
     "base_uri": "https://localhost:8080/",
     "height": 119
    },
    "colab_type": "code",
    "executionInfo": {
     "elapsed": 6833,
     "status": "ok",
     "timestamp": 1581750102769,
     "user": {
      "displayName": "Govind Sharma",
      "photoUrl": "https://lh3.googleusercontent.com/a-/AAuE7mCFZUrfraAQ19aKIulQhKAnMHwElCaSOXz-z1ap=s64",
      "userId": "05949707239038308575"
     },
     "user_tz": 300
    },
    "id": "vPJEozTEpWzN",
    "outputId": "579805e1-7c6f-441f-d5d8-4fb1b63cd2bc"
   },
   "outputs": [],
   "source": [
    "from hydro_nlp import *"
   ]
  },
  {
   "cell_type": "code",
   "execution_count": 3,
   "metadata": {
    "colab": {},
    "colab_type": "code",
    "id": "LuDVrycypTF-"
   },
   "outputs": [
    {
     "name": "stdout",
     "output_type": "stream",
     "text": [
      "Loaded water bodies from hydro_matcher.pkl\n"
     ]
    }
   ],
   "source": [
    "hm = HydroMatch()"
   ]
  },
  {
   "cell_type": "code",
   "execution_count": 9,
   "metadata": {},
   "outputs": [],
   "source": [
    "# Object can be used to match any text against the list of rivers\n",
    "text = \"Amazon is sira and so is the Nile.\"\n",
    "matches, doc = hm.match(text)"
   ]
  },
  {
   "cell_type": "code",
   "execution_count": 10,
   "metadata": {},
   "outputs": [
    {
     "data": {
      "text/plain": [
       "[('Amazon', 'RIVER', 0, 1), ('Nile', 'RIVER', 7, 8)]"
      ]
     },
     "execution_count": 10,
     "metadata": {},
     "output_type": "execute_result"
    }
   ],
   "source": [
    "# List of all matches in the given text\n",
    "matches"
   ]
  },
  {
   "cell_type": "code",
   "execution_count": 11,
   "metadata": {},
   "outputs": [
    {
     "data": {
      "text/html": [
       "<div class=\"entities\" style=\"line-height: 2.5; direction: ltr\">\n",
       "<mark class=\"entity\" style=\"background: #ddd; padding: 0.45em 0.6em; margin: 0 0.25em; line-height: 1; border-radius: 0.35em;\">\n",
       "    Amazon\n",
       "    <span style=\"font-size: 0.8em; font-weight: bold; line-height: 1; border-radius: 0.35em; text-transform: uppercase; vertical-align: middle; margin-left: 0.5rem\">RIVER</span>\n",
       "</mark>\n",
       " is sira and so is the \n",
       "<mark class=\"entity\" style=\"background: #ddd; padding: 0.45em 0.6em; margin: 0 0.25em; line-height: 1; border-radius: 0.35em;\">\n",
       "    Nile\n",
       "    <span style=\"font-size: 0.8em; font-weight: bold; line-height: 1; border-radius: 0.35em; text-transform: uppercase; vertical-align: middle; margin-left: 0.5rem\">RIVER</span>\n",
       "</mark>\n",
       ".</div>"
      ],
      "text/plain": [
       "<IPython.core.display.HTML object>"
      ]
     },
     "metadata": {},
     "output_type": "display_data"
    }
   ],
   "source": [
    "# The results can be rendered as:\n",
    "displacy.render(doc, style=\"ent\", jupyter=True)"
   ]
  },
  {
   "cell_type": "code",
   "execution_count": 14,
   "metadata": {},
   "outputs": [
    {
     "name": "stdout",
     "output_type": "stream",
     "text": [
      "Amazon https://www.wikidata.org/wiki/Q3783\n",
      "Nile https://www.wikidata.org/wiki/Q3392\n"
     ]
    }
   ],
   "source": [
    "# Get Wikidata for each match\n",
    "for ent in doc.ents:\n",
    "    print (ent, ent._.wikilink)"
   ]
  },
  {
   "cell_type": "code",
   "execution_count": 47,
   "metadata": {},
   "outputs": [],
   "source": []
  },
  {
   "cell_type": "code",
   "execution_count": null,
   "metadata": {},
   "outputs": [],
   "source": []
  },
  {
   "cell_type": "code",
   "execution_count": null,
   "metadata": {},
   "outputs": [],
   "source": []
  },
  {
   "cell_type": "code",
   "execution_count": null,
   "metadata": {},
   "outputs": [],
   "source": []
  },
  {
   "cell_type": "code",
   "execution_count": null,
   "metadata": {},
   "outputs": [],
   "source": []
  },
  {
   "cell_type": "code",
   "execution_count": null,
   "metadata": {},
   "outputs": [],
   "source": []
  },
  {
   "cell_type": "code",
   "execution_count": 19,
   "metadata": {},
   "outputs": [],
   "source": []
  },
  {
   "cell_type": "code",
   "execution_count": null,
   "metadata": {},
   "outputs": [],
   "source": []
  },
  {
   "cell_type": "code",
   "execution_count": 26,
   "metadata": {},
   "outputs": [],
   "source": []
  },
  {
   "cell_type": "code",
   "execution_count": null,
   "metadata": {},
   "outputs": [],
   "source": []
  },
  {
   "cell_type": "code",
   "execution_count": null,
   "metadata": {},
   "outputs": [],
   "source": []
  },
  {
   "cell_type": "code",
   "execution_count": null,
   "metadata": {},
   "outputs": [],
   "source": []
  },
  {
   "cell_type": "code",
   "execution_count": null,
   "metadata": {
    "colab": {
     "base_uri": "https://localhost:8080/",
     "height": 34
    },
    "colab_type": "code",
    "executionInfo": {
     "elapsed": 587,
     "status": "ok",
     "timestamp": 1581750487945,
     "user": {
      "displayName": "Govind Sharma",
      "photoUrl": "https://lh3.googleusercontent.com/a-/AAuE7mCFZUrfraAQ19aKIulQhKAnMHwElCaSOXz-z1ap=s64",
      "userId": "05949707239038308575"
     },
     "user_tz": 300
    },
    "id": "C5ZqsCMZpW2S",
    "outputId": "2331ef50-5bd9-45f6-a92e-aa76977e5e94"
   },
   "outputs": [],
   "source": []
  },
  {
   "cell_type": "code",
   "execution_count": null,
   "metadata": {
    "colab": {
     "base_uri": "https://localhost:8080/",
     "height": 51
    },
    "colab_type": "code",
    "executionInfo": {
     "elapsed": 3259,
     "status": "ok",
     "timestamp": 1581750498259,
     "user": {
      "displayName": "Govind Sharma",
      "photoUrl": "https://lh3.googleusercontent.com/a-/AAuE7mCFZUrfraAQ19aKIulQhKAnMHwElCaSOXz-z1ap=s64",
      "userId": "05949707239038308575"
     },
     "user_tz": 300
    },
    "id": "8DkmTXQmqIV5",
    "outputId": "a8765671-3cae-4f98-dd0e-6b25632898b9"
   },
   "outputs": [],
   "source": []
  },
  {
   "cell_type": "code",
   "execution_count": 0,
   "metadata": {
    "colab": {},
    "colab_type": "code",
    "id": "fRczQEcnpTGF"
   },
   "outputs": [],
   "source": []
  },
  {
   "cell_type": "code",
   "execution_count": null,
   "metadata": {
    "colab": {
     "base_uri": "https://localhost:8080/",
     "height": 550
    },
    "colab_type": "code",
    "executionInfo": {
     "elapsed": 2452,
     "status": "ok",
     "timestamp": 1581750506759,
     "user": {
      "displayName": "Govind Sharma",
      "photoUrl": "https://lh3.googleusercontent.com/a-/AAuE7mCFZUrfraAQ19aKIulQhKAnMHwElCaSOXz-z1ap=s64",
      "userId": "05949707239038308575"
     },
     "user_tz": 300
    },
    "id": "vyB9qvaopTGJ",
    "outputId": "03ff4096-e619-4484-8174-d939d8b7f731"
   },
   "outputs": [],
   "source": []
  },
  {
   "cell_type": "code",
   "execution_count": null,
   "metadata": {
    "colab": {},
    "colab_type": "code",
    "id": "hlFlagygpTGR",
    "outputId": "4778e178-6fa8-4c12-eb58-002ff4fd4d77"
   },
   "outputs": [],
   "source": []
  },
  {
   "cell_type": "code",
   "execution_count": null,
   "metadata": {
    "colab": {},
    "colab_type": "code",
    "id": "lP5itRXzpTGW"
   },
   "outputs": [],
   "source": []
  },
  {
   "cell_type": "code",
   "execution_count": null,
   "metadata": {
    "colab": {
     "base_uri": "https://localhost:8080/",
     "height": 52
    },
    "colab_type": "code",
    "executionInfo": {
     "elapsed": 568,
     "status": "ok",
     "timestamp": 1581750662810,
     "user": {
      "displayName": "Govind Sharma",
      "photoUrl": "https://lh3.googleusercontent.com/a-/AAuE7mCFZUrfraAQ19aKIulQhKAnMHwElCaSOXz-z1ap=s64",
      "userId": "05949707239038308575"
     },
     "user_tz": 300
    },
    "id": "3Zno5nvrpTGc",
    "outputId": "26020643-f629-46b0-fcd0-69b155456dcd"
   },
   "outputs": [],
   "source": []
  },
  {
   "cell_type": "code",
   "execution_count": 0,
   "metadata": {
    "colab": {},
    "colab_type": "code",
    "id": "8_CCL7iTpTGi"
   },
   "outputs": [],
   "source": []
  },
  {
   "cell_type": "code",
   "execution_count": 0,
   "metadata": {
    "colab": {},
    "colab_type": "code",
    "id": "mZlTWxITpTGp"
   },
   "outputs": [],
   "source": []
  },
  {
   "cell_type": "code",
   "execution_count": null,
   "metadata": {
    "colab": {
     "base_uri": "https://localhost:8080/",
     "height": 437
    },
    "colab_type": "code",
    "executionInfo": {
     "elapsed": 591,
     "status": "ok",
     "timestamp": 1581750681483,
     "user": {
      "displayName": "Govind Sharma",
      "photoUrl": "https://lh3.googleusercontent.com/a-/AAuE7mCFZUrfraAQ19aKIulQhKAnMHwElCaSOXz-z1ap=s64",
      "userId": "05949707239038308575"
     },
     "user_tz": 300
    },
    "id": "uqQQl99opTGu",
    "outputId": "7c735ee9-60cd-4d9b-934c-5245fca8d729"
   },
   "outputs": [],
   "source": []
  },
  {
   "cell_type": "code",
   "execution_count": null,
   "metadata": {
    "colab": {
     "base_uri": "https://localhost:8080/",
     "height": 472
    },
    "colab_type": "code",
    "executionInfo": {
     "elapsed": 783,
     "status": "ok",
     "timestamp": 1581750685444,
     "user": {
      "displayName": "Govind Sharma",
      "photoUrl": "https://lh3.googleusercontent.com/a-/AAuE7mCFZUrfraAQ19aKIulQhKAnMHwElCaSOXz-z1ap=s64",
      "userId": "05949707239038308575"
     },
     "user_tz": 300
    },
    "id": "v0AFPxmppTGz",
    "outputId": "500adf18-48fd-46b5-a6af-a1e6d893b696"
   },
   "outputs": [],
   "source": []
  },
  {
   "cell_type": "code",
   "execution_count": 0,
   "metadata": {
    "colab": {},
    "colab_type": "code",
    "id": "KbEqRB23pTG9"
   },
   "outputs": [],
   "source": []
  },
  {
   "cell_type": "code",
   "execution_count": 0,
   "metadata": {
    "colab": {},
    "colab_type": "code",
    "id": "7kbt8j18pTHB"
   },
   "outputs": [],
   "source": []
  },
  {
   "cell_type": "code",
   "execution_count": 0,
   "metadata": {
    "colab": {},
    "colab_type": "code",
    "id": "0uF4GpNVpTHE"
   },
   "outputs": [],
   "source": []
  },
  {
   "cell_type": "code",
   "execution_count": 0,
   "metadata": {
    "colab": {},
    "colab_type": "code",
    "id": "PDLMeLASpTHI"
   },
   "outputs": [],
   "source": []
  },
  {
   "cell_type": "code",
   "execution_count": 0,
   "metadata": {
    "colab": {},
    "colab_type": "code",
    "id": "P9TRCPzFpTHM"
   },
   "outputs": [],
   "source": []
  },
  {
   "cell_type": "code",
   "execution_count": 0,
   "metadata": {
    "colab": {},
    "colab_type": "code",
    "id": "d23Pv1_CpTHQ"
   },
   "outputs": [],
   "source": []
  },
  {
   "cell_type": "code",
   "execution_count": 0,
   "metadata": {
    "colab": {},
    "colab_type": "code",
    "id": "a8XQ2qdQpTHV"
   },
   "outputs": [],
   "source": []
  }
 ],
 "metadata": {
  "colab": {
   "collapsed_sections": [],
   "name": "nlp_test.ipynb",
   "provenance": []
  },
  "kernelspec": {
   "display_name": "Python 3",
   "language": "python",
   "name": "python3"
  },
  "language_info": {
   "codemirror_mode": {
    "name": "ipython",
    "version": 3
   },
   "file_extension": ".py",
   "mimetype": "text/x-python",
   "name": "python",
   "nbconvert_exporter": "python",
   "pygments_lexer": "ipython3",
   "version": "3.7.3"
  }
 },
 "nbformat": 4,
 "nbformat_minor": 1
}
