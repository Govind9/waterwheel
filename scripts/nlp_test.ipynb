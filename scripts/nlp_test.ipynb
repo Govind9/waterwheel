{
  "nbformat": 4,
  "nbformat_minor": 0,
  "metadata": {
    "kernelspec": {
      "display_name": "Python 3",
      "language": "python",
      "name": "python3"
    },
    "language_info": {
      "codemirror_mode": {
        "name": "ipython",
        "version": 3
      },
      "file_extension": ".py",
      "mimetype": "text/x-python",
      "name": "python",
      "nbconvert_exporter": "python",
      "pygments_lexer": "ipython3",
      "version": "3.7.3"
    },
    "colab": {
      "name": "nlp_test.ipynb",
      "provenance": [],
      "collapsed_sections": []
    }
  },
  "cells": [
    {
      "cell_type": "code",
      "metadata": {
        "id": "DyBEUDseq1EA",
        "colab_type": "code",
        "colab": {}
      },
      "source": [
        "# Need this specific version\n",
        "#!pip install -Iv spacy==2.2.3\n",
        "#!python -m spacy validate\n",
        "#!python -m spacy download en_core_web_sm\n",
        "# Restart runtime after installation."
      ],
      "execution_count": 0,
      "outputs": []
    },
    {
      "cell_type": "code",
      "metadata": {
        "id": "vPJEozTEpWzN",
        "colab_type": "code",
        "colab": {
          "base_uri": "https://localhost:8080/",
          "height": 119
        },
        "outputId": "579805e1-7c6f-441f-d5d8-4fb1b63cd2bc"
      },
      "source": [
        "!git clone https://github.com/gwf-uwaterloo/wikidata-water-features.git"
      ],
      "execution_count": 3,
      "outputs": [
        {
          "output_type": "stream",
          "text": [
            "Cloning into 'wikidata-water-features'...\n",
            "remote: Enumerating objects: 30, done.\u001b[K\n",
            "remote: Counting objects: 100% (30/30), done.\u001b[K\n",
            "remote: Compressing objects: 100% (24/24), done.\u001b[K\n",
            "remote: Total 30 (delta 5), reused 26 (delta 4), pack-reused 0\u001b[K\n",
            "Unpacking objects: 100% (30/30), done.\n"
          ],
          "name": "stdout"
        }
      ]
    },
    {
      "cell_type": "code",
      "metadata": {
        "id": "LuDVrycypTF-",
        "colab_type": "code",
        "colab": {}
      },
      "source": [
        "from spacy import displacy\n",
        "from pathlib import Path\n",
        "from tqdm.notebook import tqdm\n",
        "import pandas as pd\n",
        "import re\n",
        "import json"
      ],
      "execution_count": 0,
      "outputs": []
    },
    {
      "cell_type": "code",
      "metadata": {
        "id": "C5ZqsCMZpW2S",
        "colab_type": "code",
        "colab": {
          "base_uri": "https://localhost:8080/",
          "height": 34
        },
        "outputId": "2331ef50-5bd9-45f6-a92e-aa76977e5e94"
      },
      "source": [
        "# change directory where all necessary files/code is\n",
        "cd wikidata-water-features/scripts/"
      ],
      "execution_count": 2,
      "outputs": [
        {
          "output_type": "stream",
          "text": [
            "/content/wikidata-water-features/scripts\n"
          ],
          "name": "stdout"
        }
      ]
    },
    {
      "cell_type": "code",
      "metadata": {
        "id": "8DkmTXQmqIV5",
        "colab_type": "code",
        "colab": {
          "base_uri": "https://localhost:8080/",
          "height": 51
        },
        "outputId": "a8765671-3cae-4f98-dd0e-6b25632898b9"
      },
      "source": [
        "ls"
      ],
      "execution_count": 3,
      "outputs": [
        {
          "output_type": "stream",
          "text": [
            "awr_1991_CORE.pickle         nlp_test.ipynb  rivers_matcher.pkl\n",
            "download_wikidata_rivers.py  \u001b[0m\u001b[01;34m__pycache__\u001b[0m/    rivers_nlp.py\n"
          ],
          "name": "stdout"
        }
      ]
    },
    {
      "cell_type": "code",
      "metadata": {
        "id": "fRczQEcnpTGF",
        "colab_type": "code",
        "colab": {}
      },
      "source": [
        "# This is the module for river matching\n",
        "from rivers_nlp import *"
      ],
      "execution_count": 0,
      "outputs": []
    },
    {
      "cell_type": "code",
      "metadata": {
        "id": "vyB9qvaopTGJ",
        "colab_type": "code",
        "colab": {
          "base_uri": "https://localhost:8080/",
          "height": 550
        },
        "outputId": "03ff4096-e619-4484-8174-d939d8b7f731"
      },
      "source": [
        "# create object of the module\n",
        "# This tries to load rivers from a default file\n",
        "# So by default, this object is ready to start matching texts\n",
        "# Filename can be provided to load rivers from a different file\n",
        "# Files created with rm.save_vocab() should be used to load from\n",
        "rm = RiverMatch()\n",
        "# ignore if you get some ValueError for now and proceed to next cells"
      ],
      "execution_count": 5,
      "outputs": [
        {
          "output_type": "error",
          "ename": "ValueError",
          "evalue": "ignored",
          "traceback": [
            "\u001b[0;31m---------------------------------------------------------------------------\u001b[0m",
            "\u001b[0;31mValueError\u001b[0m                                Traceback (most recent call last)",
            "\u001b[0;31mValueError\u001b[0m: bytes length not a multiple of item size"
          ]
        },
        {
          "output_type": "stream",
          "text": [
            "Exception ignored in: 'preshed.bloom.bloom_from_bytes'\n",
            "ValueError: bytes length not a multiple of item size\n"
          ],
          "name": "stderr"
        },
        {
          "output_type": "error",
          "ename": "ValueError",
          "evalue": "ignored",
          "traceback": [
            "\u001b[0;31m---------------------------------------------------------------------------\u001b[0m",
            "\u001b[0;31mValueError\u001b[0m                                Traceback (most recent call last)",
            "\u001b[0;31mValueError\u001b[0m: bytes length not a multiple of item size"
          ]
        },
        {
          "output_type": "stream",
          "text": [
            "Exception ignored in: 'preshed.bloom.bloom_from_bytes'\n",
            "ValueError: bytes length not a multiple of item size\n"
          ],
          "name": "stderr"
        },
        {
          "output_type": "error",
          "ename": "ValueError",
          "evalue": "ignored",
          "traceback": [
            "\u001b[0;31m---------------------------------------------------------------------------\u001b[0m",
            "\u001b[0;31mValueError\u001b[0m                                Traceback (most recent call last)",
            "\u001b[0;31mValueError\u001b[0m: bytes length not a multiple of item size"
          ]
        },
        {
          "output_type": "stream",
          "text": [
            "Exception ignored in: 'preshed.bloom.bloom_from_bytes'\n",
            "ValueError: bytes length not a multiple of item size\n"
          ],
          "name": "stderr"
        },
        {
          "output_type": "error",
          "ename": "ValueError",
          "evalue": "ignored",
          "traceback": [
            "\u001b[0;31m---------------------------------------------------------------------------\u001b[0m",
            "\u001b[0;31mValueError\u001b[0m                                Traceback (most recent call last)",
            "\u001b[0;31mValueError\u001b[0m: bytes length not a multiple of item size"
          ]
        },
        {
          "output_type": "stream",
          "text": [
            "Exception ignored in: 'preshed.bloom.bloom_from_bytes'\n",
            "ValueError: bytes length not a multiple of item size\n"
          ],
          "name": "stderr"
        },
        {
          "output_type": "stream",
          "text": [
            "Loaded rivers from rivers_matcher.pkl\n"
          ],
          "name": "stdout"
        }
      ]
    },
    {
      "cell_type": "code",
      "metadata": {
        "id": "hlFlagygpTGR",
        "colab_type": "code",
        "colab": {},
        "outputId": "4778e178-6fa8-4c12-eb58-002ff4fd4d77"
      },
      "source": [
        "# This cell can be run to load river names from csv \n",
        "# NO NEED TO RUN THIS CELL\n",
        "\"\"\"\n",
        "# Read from the csv and store river names\n",
        "#csv_file = \"H:\\\\Courses\\\\RA\\\\wikidata-water-features\\\\data\\\\wikidata_rivers.csv\"\n",
        "csv_file = \"/content/wikidata-water-features/data/wikidata_rivers.csv\"\n",
        "df = pd.read_csv(csv_file)\n",
        "df.set_index('ID', inplace=True)\n",
        "# there are other river names as well which are common/stop words.\n",
        "stop_words = [\"is\"]\n",
        "# some river just have IDs instead of names. Ignore those:\n",
        "rivers = [river for river in df[\"Name\"] if not (river.lower() in stop_words or re.search(\"^Q[0-9]+\", river))]\n",
        "\"\"\""
      ],
      "execution_count": 0,
      "outputs": [
        {
          "output_type": "execute_result",
          "data": {
            "text/plain": [
              "'\\n# Read from the csv and store river names\\ndf = pd.read_csv(\"H:\\\\Courses\\\\RA\\\\wikidata-water-features\\\\data\\\\wikidata_rivers.csv\")\\ndf.set_index(\\'ID\\', inplace=True)\\n# there are other river names as well which are common/stop words.\\nstop_words = [\"is\"]\\n# some river just have IDs instead of names. Ignore those:\\nrivers = [river for river in df[\"Name\"] if not (river.lower() in stop_words or re.search(\"^Q[0-9]+\", river))]\\n'"
            ]
          },
          "metadata": {
            "tags": []
          },
          "execution_count": 4
        }
      ]
    },
    {
      "cell_type": "code",
      "metadata": {
        "id": "lP5itRXzpTGW",
        "colab_type": "code",
        "colab": {}
      },
      "source": [
        "# NO NEED TO RUN THIS CELL\n",
        "# This can be done to complete reload from a new list of rivers\n",
        "#rm.reload_rivers(rivers)\n",
        "\n",
        "# This can be done to add new rivers to already loaded list\n",
        "#rm.add_rivers(rivers)\n",
        "\n",
        "# This can be done to save loaded rivers into a file. Filename can be provided\n",
        "#rm.save_vocab()"
      ],
      "execution_count": 0,
      "outputs": []
    },
    {
      "cell_type": "code",
      "metadata": {
        "id": "3Zno5nvrpTGc",
        "colab_type": "code",
        "colab": {
          "base_uri": "https://localhost:8080/",
          "height": 52
        },
        "outputId": "26020643-f629-46b0-fcd0-69b155456dcd"
      },
      "source": [
        "# Object can be used to match any text against the list of rivers\n",
        "matches, entities = rm.match(\"The Amazon is amazing and so is the Nile.\")\n",
        "# The results can be rendered as:\n",
        "displacy.render(entities, style=\"ent\", manual=True, jupyter=True)"
      ],
      "execution_count": 7,
      "outputs": [
        {
          "output_type": "display_data",
          "data": {
            "text/html": [
              "<div class=\"entities\" style=\"line-height: 2.5; direction: ltr\">The \n",
              "<mark class=\"entity\" style=\"background: #ddd; padding: 0.45em 0.6em; margin: 0 0.25em; line-height: 1; border-radius: 0.35em;\">\n",
              "    Amazon\n",
              "    <span style=\"font-size: 0.8em; font-weight: bold; line-height: 1; border-radius: 0.35em; text-transform: uppercase; vertical-align: middle; margin-left: 0.5rem\">RIVER</span>\n",
              "</mark>\n",
              " is amazing and so is the \n",
              "<mark class=\"entity\" style=\"background: #ddd; padding: 0.45em 0.6em; margin: 0 0.25em; line-height: 1; border-radius: 0.35em;\">\n",
              "    Nile\n",
              "    <span style=\"font-size: 0.8em; font-weight: bold; line-height: 1; border-radius: 0.35em; text-transform: uppercase; vertical-align: middle; margin-left: 0.5rem\">RIVER</span>\n",
              "</mark>\n",
              ".</div>"
            ],
            "text/plain": [
              "<IPython.core.display.HTML object>"
            ]
          },
          "metadata": {
            "tags": []
          }
        }
      ]
    },
    {
      "cell_type": "code",
      "metadata": {
        "id": "8_CCL7iTpTGi",
        "colab_type": "code",
        "colab": {}
      },
      "source": [
        "# this cell can be run for performing the match for all abstracts\n",
        "# NO NEED TO RUN THIS CELL\n",
        "\n",
        "\"\"\"\n",
        "abstracts_path = Path(\"H:\\\\Courses\\\\RA\\\\hydrology_abstracts\\\\core_abstracts\")\n",
        "files = abstracts_path.glob(\"*CORE.json\")\n",
        "results = {\"matches\": [], \"entities\": []}\n",
        "for file in files:\n",
        "    print (f\"Processing {file.name}\")\n",
        "    with open(file) as f:\n",
        "        lines = f.readlines()\n",
        "    for line in tqdm(lines):\n",
        "        data = json.loads(line)\n",
        "        if data[\"title\"]:\n",
        "            matches, entities = rm.match(data[\"title\"])\n",
        "            results[\"matches\"].append(matches)\n",
        "            results[\"entities\"].append(entities)\n",
        "        if data[\"abstract\"]:\n",
        "            matches, entities = rm.match(data[\"abstract\"])\n",
        "            results[\"matches\"].append(matches)\n",
        "            results[\"entities\"].append(entities)\n",
        "\"\"\""
      ],
      "execution_count": 0,
      "outputs": []
    },
    {
      "cell_type": "code",
      "metadata": {
        "id": "mZlTWxITpTGp",
        "colab_type": "code",
        "colab": {}
      },
      "source": [
        "# I already ran the search on one of the files and stored the results.\n",
        "# loading the results stored\n",
        "with open(\"awr_1991_CORE.pickle\", \"rb\") as file:\n",
        "    results = pickle.load(file)"
      ],
      "execution_count": 0,
      "outputs": []
    },
    {
      "cell_type": "code",
      "metadata": {
        "id": "uqQQl99opTGu",
        "colab_type": "code",
        "colab": {
          "base_uri": "https://localhost:8080/",
          "height": 437
        },
        "outputId": "7c735ee9-60cd-4d9b-934c-5245fca8d729"
      },
      "source": [
        "# A good/mixed result\n",
        "displacy.render(results[\"entities\"][3309], style=\"ent\", manual=True, jupyter=True)"
      ],
      "execution_count": 9,
      "outputs": [
        {
          "output_type": "display_data",
          "data": {
            "text/html": [
              "<div class=\"entities\" style=\"line-height: 2.5; direction: ltr\">The availability of in situ measurements of precipitation in remote locations is limited. As a result, the use of satellite measurements of precipitation is attractive for water resources management. Combined precipitation products that rely partially or entirely on satellite measurements are becoming increasingly available. However, these products have several weaknesses, for example their failure to capture certain types of precipitation, limited accuracy and limited spatial and temporal resolution. This paper evaluates the usefulness of several commonly used precipitation products over data scarce, complex mountainous terrain from a water resources perspective. Spatially averaged precipitation time series were generated or obtained for 16 sub-basins of the Paute river basin in the Ecuadorian Andes and 13 sub-basins of the \n",
              "<mark class=\"entity\" style=\"background: #ddd; padding: 0.45em 0.6em; margin: 0 0.25em; line-height: 1; border-radius: 0.35em;\">\n",
              "    Baker river\n",
              "    <span style=\"font-size: 0.8em; font-weight: bold; line-height: 1; border-radius: 0.35em; text-transform: uppercase; vertical-align: middle; margin-left: 0.5rem\">RIVER</span>\n",
              "</mark>\n",
              " basin in Chilean Patagonia. Precipitation time series were generated using the European Centre for Medium Weather Range Forecasting (ECMWF) 40 year reanalysis (\n",
              "<mark class=\"entity\" style=\"background: #ddd; padding: 0.45em 0.6em; margin: 0 0.25em; line-height: 1; border-radius: 0.35em;\">\n",
              "    ERA\n",
              "    <span style=\"font-size: 0.8em; font-weight: bold; line-height: 1; border-radius: 0.35em; text-transform: uppercase; vertical-align: middle; margin-left: 0.5rem\">RIVER</span>\n",
              "</mark>\n",
              "-40) and the subsequent \n",
              "<mark class=\"entity\" style=\"background: #ddd; padding: 0.45em 0.6em; margin: 0 0.25em; line-height: 1; border-radius: 0.35em;\">\n",
              "    ERA\n",
              "    <span style=\"font-size: 0.8em; font-weight: bold; line-height: 1; border-radius: 0.35em; text-transform: uppercase; vertical-align: middle; margin-left: 0.5rem\">RIVER</span>\n",
              "</mark>\n",
              "-interim products, and the National Centers for Environmental Prediction/National Center for Atmospheric Research reanalysis dataset 1 (NCEP R1) hindcast products, as well as precipitation estimation from Remotely Sensed Information using Artificial Neural Networks (PERSIANN). The Tropical Rainfall Measurement Mission (TRMM) 3B42 is also used for the Ecuadorian Andes. These datasets were compared to both spatially averaged gauged precipitation and river discharge. In general, the time series of the remotely sensed and hindcast products show a low correlation with locally observed precipitation data. Large biases are also observed between the different products. Hydrological verification based on river flows reveals that water \n",
              "<mark class=\"entity\" style=\"background: #ddd; padding: 0.45em 0.6em; margin: 0 0.25em; line-height: 1; border-radius: 0.35em;\">\n",
              "    balance\n",
              "    <span style=\"font-size: 0.8em; font-weight: bold; line-height: 1; border-radius: 0.35em; text-transform: uppercase; vertical-align: middle; margin-left: 0.5rem\">RIVER</span>\n",
              "</mark>\n",
              " errors can be extremely high for all evaluated products, including interpolated local data, in basins smaller than 1000 km(2). The observations are consistent over the two study regions despite very different climatic settings and hydrological processes, which is encouraging for extrapolation to other mountainous regions. (C) 2011 Elsevier Ltd. All rights reserved.</div>"
            ],
            "text/plain": [
              "<IPython.core.display.HTML object>"
            ]
          },
          "metadata": {
            "tags": []
          }
        }
      ]
    },
    {
      "cell_type": "code",
      "metadata": {
        "id": "v0AFPxmppTGz",
        "colab_type": "code",
        "colab": {
          "base_uri": "https://localhost:8080/",
          "height": 472
        },
        "outputId": "500adf18-48fd-46b5-a6af-a1e6d893b696"
      },
      "source": [
        "# A bad result\n",
        "# As per the csv from wikidata, there is indeed a river named \"One\"\n",
        "displacy.render(results[\"entities\"][75], style=\"ent\", manual=True, jupyter=True)"
      ],
      "execution_count": 10,
      "outputs": [
        {
          "output_type": "display_data",
          "data": {
            "text/html": [
              "<div class=\"entities\" style=\"line-height: 2.5; direction: ltr\">The existence of trends in hydro-climatic variables such as rainfall is an indication of potential climate variability and climate change and the identification of such trends in rainfall is essential for the planning and design of sustainable water resources. This study focuses on identifying existing trends in annual, seasonal and monthly rainfall at thirteen stations in the Onkaparinga catchment in South Australia during the period 1960-2010. A relatively new trend detection approach, which combines a Continuous Wavelet Transform (CWT) with the Mann Kendall (MK) test, was applied in this study. The original rainfall time series was decomposed to different periodic components using a CWT and then the MK test was applied to detect the trends. \n",
              "<mark class=\"entity\" style=\"background: #ddd; padding: 0.45em 0.6em; margin: 0 0.25em; line-height: 1; border-radius: 0.35em;\">\n",
              "    One\n",
              "    <span style=\"font-size: 0.8em; font-weight: bold; line-height: 1; border-radius: 0.35em; text-transform: uppercase; vertical-align: middle; margin-left: 0.5rem\">RIVER</span>\n",
              "</mark>\n",
              "\n",
              "<mark class=\"entity\" style=\"background: #ddd; padding: 0.45em 0.6em; margin: 0 0.25em; line-height: 1; border-radius: 0.35em;\">\n",
              "    one\n",
              "    <span style=\"font-size: 0.8em; font-weight: bold; line-height: 1; border-radius: 0.35em; text-transform: uppercase; vertical-align: middle; margin-left: 0.5rem\">RIVER</span>\n",
              "</mark>\n",
              "nts using a CWT and then the MK test was applied to detect the trends. One station showed a statistically significant (at the 5\\% level) negative trend for annual rainfall. Winter rainfall exhibited significant positive trends at four stations. In the case of monthly rainfall, significant positive trends were observed in June (at seven stations), November (at \n",
              "<mark class=\"entity\" style=\"background: #ddd; padding: 0.45em 0.6em; margin: 0 0.25em; line-height: 1; border-radius: 0.35em;\">\n",
              "    one\n",
              "    <span style=\"font-size: 0.8em; font-weight: bold; line-height: 1; border-radius: 0.35em; text-transform: uppercase; vertical-align: middle; margin-left: 0.5rem\">RIVER</span>\n",
              "</mark>\n",
              " station) and December (at \n",
              "<mark class=\"entity\" style=\"background: #ddd; padding: 0.45em 0.6em; margin: 0 0.25em; line-height: 1; border-radius: 0.35em;\">\n",
              "    one\n",
              "    <span style=\"font-size: 0.8em; font-weight: bold; line-height: 1; border-radius: 0.35em; text-transform: uppercase; vertical-align: middle; margin-left: 0.5rem\">RIVER</span>\n",
              "</mark>\n",
              " station). The study showed that the periodic comp\n",
              "<mark class=\"entity\" style=\"background: #ddd; padding: 0.45em 0.6em; margin: 0 0.25em; line-height: 1; border-radius: 0.35em;\">\n",
              "    one\n",
              "    <span style=\"font-size: 0.8em; font-weight: bold; line-height: 1; border-radius: 0.35em; text-transform: uppercase; vertical-align: middle; margin-left: 0.5rem\">RIVER</span>\n",
              "</mark>\n",
              "nts might have significant trends even when there are no significant trends in the original data. The periodic comp\n",
              "<mark class=\"entity\" style=\"background: #ddd; padding: 0.45em 0.6em; margin: 0 0.25em; line-height: 1; border-radius: 0.35em;\">\n",
              "    one\n",
              "    <span style=\"font-size: 0.8em; font-weight: bold; line-height: 1; border-radius: 0.35em; text-transform: uppercase; vertical-align: middle; margin-left: 0.5rem\">RIVER</span>\n",
              "</mark>\n",
              "\n",
              "<mark class=\"entity\" style=\"background: #ddd; padding: 0.45em 0.6em; margin: 0 0.25em; line-height: 1; border-radius: 0.35em;\">\n",
              "    one\n",
              "    <span style=\"font-size: 0.8em; font-weight: bold; line-height: 1; border-radius: 0.35em; text-transform: uppercase; vertical-align: middle; margin-left: 0.5rem\">RIVER</span>\n",
              "</mark>\n",
              "nts using a CWT and then the MK test was applied to detect the trends. One station showed a statistically significant (at the 5\\% level) negative trend for annual rainfall. Winter rainfall exhibited significant positive trends at four stations. In the case of monthly rainfall, significant positive trends were observed in June (at seven stations), November (at \n",
              "<mark class=\"entity\" style=\"background: #ddd; padding: 0.45em 0.6em; margin: 0 0.25em; line-height: 1; border-radius: 0.35em;\">\n",
              "    one\n",
              "    <span style=\"font-size: 0.8em; font-weight: bold; line-height: 1; border-radius: 0.35em; text-transform: uppercase; vertical-align: middle; margin-left: 0.5rem\">RIVER</span>\n",
              "</mark>\n",
              " station) and December (at \n",
              "<mark class=\"entity\" style=\"background: #ddd; padding: 0.45em 0.6em; margin: 0 0.25em; line-height: 1; border-radius: 0.35em;\">\n",
              "    one\n",
              "    <span style=\"font-size: 0.8em; font-weight: bold; line-height: 1; border-radius: 0.35em; text-transform: uppercase; vertical-align: middle; margin-left: 0.5rem\">RIVER</span>\n",
              "</mark>\n",
              " station). The study showed that the periodic comp\n",
              "<mark class=\"entity\" style=\"background: #ddd; padding: 0.45em 0.6em; margin: 0 0.25em; line-height: 1; border-radius: 0.35em;\">\n",
              "    one\n",
              "    <span style=\"font-size: 0.8em; font-weight: bold; line-height: 1; border-radius: 0.35em; text-transform: uppercase; vertical-align: middle; margin-left: 0.5rem\">RIVER</span>\n",
              "</mark>\n",
              "nts might have significant trends even when there are no significant trends in the original data. The periodic comp\n",
              "<mark class=\"entity\" style=\"background: #ddd; padding: 0.45em 0.6em; margin: 0 0.25em; line-height: 1; border-radius: 0.35em;\">\n",
              "    one\n",
              "    <span style=\"font-size: 0.8em; font-weight: bold; line-height: 1; border-radius: 0.35em; text-transform: uppercase; vertical-align: middle; margin-left: 0.5rem\">RIVER</span>\n",
              "</mark>\n",
              "nt that dominates the trend in the original data varies from season to season. A sequential Mann-Kendall analysis was found useful for identifying the trend turning points. Most of the trends, whether positive or negative, started during the mid-1970s to mid-1980s. The technique developed in this study may also be applied for trend detection of other hydro-climatic variables in other catchments, particularly where temporal and spatial variabilities are high. (C) 2015 Elsevier Ltd. All rights reserved.</div>"
            ],
            "text/plain": [
              "<IPython.core.display.HTML object>"
            ]
          },
          "metadata": {
            "tags": []
          }
        }
      ]
    },
    {
      "cell_type": "code",
      "metadata": {
        "id": "KbEqRB23pTG9",
        "colab_type": "code",
        "colab": {}
      },
      "source": [
        ""
      ],
      "execution_count": 0,
      "outputs": []
    },
    {
      "cell_type": "code",
      "metadata": {
        "id": "7kbt8j18pTHB",
        "colab_type": "code",
        "colab": {}
      },
      "source": [
        ""
      ],
      "execution_count": 0,
      "outputs": []
    },
    {
      "cell_type": "code",
      "metadata": {
        "id": "0uF4GpNVpTHE",
        "colab_type": "code",
        "colab": {}
      },
      "source": [
        ""
      ],
      "execution_count": 0,
      "outputs": []
    },
    {
      "cell_type": "code",
      "metadata": {
        "id": "PDLMeLASpTHI",
        "colab_type": "code",
        "colab": {}
      },
      "source": [
        ""
      ],
      "execution_count": 0,
      "outputs": []
    },
    {
      "cell_type": "code",
      "metadata": {
        "id": "P9TRCPzFpTHM",
        "colab_type": "code",
        "colab": {}
      },
      "source": [
        ""
      ],
      "execution_count": 0,
      "outputs": []
    },
    {
      "cell_type": "code",
      "metadata": {
        "id": "d23Pv1_CpTHQ",
        "colab_type": "code",
        "colab": {}
      },
      "source": [
        ""
      ],
      "execution_count": 0,
      "outputs": []
    },
    {
      "cell_type": "code",
      "metadata": {
        "id": "a8XQ2qdQpTHV",
        "colab_type": "code",
        "colab": {}
      },
      "source": [
        ""
      ],
      "execution_count": 0,
      "outputs": []
    }
  ]
}